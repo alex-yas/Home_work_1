{
 "cells":[
  {
   "cell_type":"markdown",
   "source":[
    "# Домашнее задание на проверку знаний библиотеки для анализа данных Pandas.\n",
    "\n",
    "Вам представлен датасет, который содержит информацию по результатам сезона 2016 года игры в бейсбол.\n",
    "\n",
    "Вам необходимо загрузить датасет (он находится в архиве с текущим домашним заданием). Провести его очистку, если это необходимо и ответить на поставленные аналитические\n",
    "вопросы.\n",
    "\n",
    "Список колонок, представленных в датасете:\n",
    "\n",
    "---\n",
    "* attendance        - количество зрителей матча\n",
    "* away_team         - название гостевой команды\n",
    "* away_team_errors  - количество ошибок гостевой команды\n",
    "* away_team_hits    - количество хитов гостевой команды (хит в бейсболе - удар при котором отбивающий достиг первой базы)\n",
    "* away_team_runs    - количество ранов гостевой команды (ран в бейсболе - очко заработанное игроком нападения)\n",
    "* date              - дата проведения матча\n",
    "* field_type        - тип игрового поля\n",
    "* game_type         - тип игры\n",
    "* home_team         - название домашней команды\n",
    "* home_team_errors  - количество ошибок домашней команды\n",
    "* home_team_hits    - количество хитов домашней команды (хит в бейсболе - удар при котором отбивающий достиг первой базы)\n",
    "* home_team_runs    - количество ранов домашней команды (ран в бейсболе - очко заработанное игроком нападения)\n",
    "* start_time        - время начала игрового матча\n",
    "* venue             - название места проведения матча (стадион, поле, арена)\n",
    "* day_of_week       - день недели проведения матча\n",
    "* temperature       - температура воздуха в день проведения матча в фаренгейтах\n",
    "* wind_speed        - скорость ветра в день проведения матча\n",
    "* wind_direction    - направление скорости ветра\n",
    "* sky               - облачность\n",
    "* total_runs        - общее количество ранов для двух команд\n",
    "* game_hours_dec    - длительность матча указаная в часах\n",
    "* season            - тип игрового сезона\n",
    "* home_team_win     - результат домашней команды (1 - выигрыш)\n",
    "* home_team_loss    - результат домашней команды (0 - проигрыш)\n",
    "* home_team_outcome - исход матча\n",
    "---\n",
    "\n",
    "Всего в задании 20 вопросов. За каждый правильный вопрос начисляется 5 баллов. Таким образом за все правильные ответы вы получите - 100 баллов. Оценка затем будет приведена к 10-ти бальной шкале.\n",
    "\n",
    "---\n",
    "\n",
    "**Кроме того, баллы могут быть снижены за**:\n",
    "\n",
    "- 1 балл снижается за качество кода - старайтесь чтобы код был максимально лаконичным. Названия переменных (если они используются) должны отражать максимальную ее сущность. Вывод старайтесь делать минимальным, так как первичная цель - сделать качественный анализ, чтобы быстро ответить на поставленный вопрос (никаких таблиц на 100 строк).\n",
    "\n",
    "\n",
    "- 5 баллов снижается если ответ на домашнюю работу будет прислан в виде скриншота, ноутбука, текстового файла и прочих способов. Используйте при отправке на проверку только GitHub\/GitLab либо прочий сервис. Присылать домашнюю работу необходимо ссылкой на ваш репозиторий на адрес электронной почты maratmovlamov2017@gmail.com\n",
    "\n",
    "\n",
    "- за каждый день просрочки дедлайна снижается по 10 баллов. Один день - минус 10 баллов, второй день минус 10 баллов, третий день минус 10 баллов. Соблюдайте сроки и не приступайте к домашнему заданию в последний момент.\n",
    "\n",
    "---\n",
    "\n",
    "Удачи вам в поисках истинны :)"
   ],
   "attachments":{
    
   },
   "metadata":{
    "datalore":{
     "type":"MD",
     "hide_input_from_viewers":false,
     "hide_output_from_viewers":false
    }
   }
  },
  {
   "cell_type":"code",
   "source":[
    "# Импортируйте все необходимые библиотеки и модули которые вам необходимы\n",
    "import pandas as pd\n",
    "import numpy as np"
   ],
   "execution_count":221,
   "outputs":[
    
   ],
   "metadata":{
    "datalore":{
     "type":"CODE",
     "hide_input_from_viewers":false,
     "hide_output_from_viewers":false
    }
   }
  },
  {
   "cell_type":"code",
   "source":[
    "# Загрузите датасет и проведите его очистку и форматирование если это необходимо\n",
    "games = pd.read_csv('baseball_games.csv', index_col=0)\n",
    "season_games = games.drop(games[games.season == 'post season'].index).reset_index().drop(columns=['index'])\n",
    "season_games.head(10)"
   ],
   "execution_count":222,
   "outputs":[
    {
     "data":{
      "text\/html":[
       "<div>\n",
       "<style scoped>\n",
       "    .dataframe tbody tr th:only-of-type {\n",
       "        vertical-align: middle;\n",
       "    }\n",
       "\n",
       "    .dataframe tbody tr th {\n",
       "        vertical-align: top;\n",
       "    }\n",
       "\n",
       "    .dataframe thead th {\n",
       "        text-align: right;\n",
       "    }\n",
       "<\/style>\n",
       "<table border=\"1\" class=\"dataframe\">\n",
       "  <thead>\n",
       "    <tr style=\"text-align: right;\">\n",
       "      <th><\/th>\n",
       "      <th>attendance<\/th>\n",
       "      <th>away_team<\/th>\n",
       "      <th>away_team_errors<\/th>\n",
       "      <th>away_team_hits<\/th>\n",
       "      <th>away_team_runs<\/th>\n",
       "      <th>date<\/th>\n",
       "      <th>field_type<\/th>\n",
       "      <th>game_type<\/th>\n",
       "      <th>home_team<\/th>\n",
       "      <th>home_team_errors<\/th>\n",
       "      <th>...<\/th>\n",
       "      <th>temperature<\/th>\n",
       "      <th>wind_speed<\/th>\n",
       "      <th>wind_direction<\/th>\n",
       "      <th>sky<\/th>\n",
       "      <th>total_runs<\/th>\n",
       "      <th>game_hours_dec<\/th>\n",
       "      <th>season<\/th>\n",
       "      <th>home_team_win<\/th>\n",
       "      <th>home_team_loss<\/th>\n",
       "      <th>home_team_outcome<\/th>\n",
       "    <\/tr>\n",
       "  <\/thead>\n",
       "  <tbody>\n",
       "    <tr>\n",
       "      <th>0<\/th>\n",
       "      <td>40030.0<\/td>\n",
       "      <td>New York Mets<\/td>\n",
       "      <td>1<\/td>\n",
       "      <td>7<\/td>\n",
       "      <td>3<\/td>\n",
       "      <td>2016-04-03<\/td>\n",
       "      <td>on grass<\/td>\n",
       "      <td>Night Game<\/td>\n",
       "      <td>Kansas City Royals<\/td>\n",
       "      <td>0<\/td>\n",
       "      <td>...<\/td>\n",
       "      <td>74.0<\/td>\n",
       "      <td>14.0<\/td>\n",
       "      <td>from Right to Left<\/td>\n",
       "      <td>Sunny<\/td>\n",
       "      <td>7<\/td>\n",
       "      <td>3.216667<\/td>\n",
       "      <td>regular season<\/td>\n",
       "      <td>1<\/td>\n",
       "      <td>0<\/td>\n",
       "      <td>Win<\/td>\n",
       "    <\/tr>\n",
       "    <tr>\n",
       "      <th>1<\/th>\n",
       "      <td>21621.0<\/td>\n",
       "      <td>Philadelphia Phillies<\/td>\n",
       "      <td>0<\/td>\n",
       "      <td>5<\/td>\n",
       "      <td>2<\/td>\n",
       "      <td>2016-04-06<\/td>\n",
       "      <td>on grass<\/td>\n",
       "      <td>Night Game<\/td>\n",
       "      <td>Cincinnati Reds<\/td>\n",
       "      <td>0<\/td>\n",
       "      <td>...<\/td>\n",
       "      <td>55.0<\/td>\n",
       "      <td>24.0<\/td>\n",
       "      <td>from Right to Left<\/td>\n",
       "      <td>Overcast<\/td>\n",
       "      <td>5<\/td>\n",
       "      <td>2.383333<\/td>\n",
       "      <td>regular season<\/td>\n",
       "      <td>1<\/td>\n",
       "      <td>0<\/td>\n",
       "      <td>Win<\/td>\n",
       "    <\/tr>\n",
       "    <tr>\n",
       "      <th>2<\/th>\n",
       "      <td>12622.0<\/td>\n",
       "      <td>Minnesota Twins<\/td>\n",
       "      <td>0<\/td>\n",
       "      <td>5<\/td>\n",
       "      <td>2<\/td>\n",
       "      <td>2016-04-06<\/td>\n",
       "      <td>on grass<\/td>\n",
       "      <td>Night Game<\/td>\n",
       "      <td>Baltimore Orioles<\/td>\n",
       "      <td>0<\/td>\n",
       "      <td>...<\/td>\n",
       "      <td>48.0<\/td>\n",
       "      <td>7.0<\/td>\n",
       "      <td>out to Leftfield<\/td>\n",
       "      <td>Unknown<\/td>\n",
       "      <td>6<\/td>\n",
       "      <td>3.183333<\/td>\n",
       "      <td>regular season<\/td>\n",
       "      <td>1<\/td>\n",
       "      <td>0<\/td>\n",
       "      <td>Win<\/td>\n",
       "    <\/tr>\n",
       "    <tr>\n",
       "      <th>3<\/th>\n",
       "      <td>18531.0<\/td>\n",
       "      <td>Washington Nationals<\/td>\n",
       "      <td>0<\/td>\n",
       "      <td>8<\/td>\n",
       "      <td>3<\/td>\n",
       "      <td>2016-04-06<\/td>\n",
       "      <td>on grass<\/td>\n",
       "      <td>Night Game<\/td>\n",
       "      <td>Atlanta Braves<\/td>\n",
       "      <td>1<\/td>\n",
       "      <td>...<\/td>\n",
       "      <td>65.0<\/td>\n",
       "      <td>10.0<\/td>\n",
       "      <td>from Right to Left<\/td>\n",
       "      <td>Cloudy<\/td>\n",
       "      <td>4<\/td>\n",
       "      <td>2.883333<\/td>\n",
       "      <td>regular season<\/td>\n",
       "      <td>0<\/td>\n",
       "      <td>1<\/td>\n",
       "      <td>Loss<\/td>\n",
       "    <\/tr>\n",
       "    <tr>\n",
       "      <th>4<\/th>\n",
       "      <td>18572.0<\/td>\n",
       "      <td>Colorado Rockies<\/td>\n",
       "      <td>1<\/td>\n",
       "      <td>8<\/td>\n",
       "      <td>4<\/td>\n",
       "      <td>2016-04-06<\/td>\n",
       "      <td>on grass<\/td>\n",
       "      <td>Day Game<\/td>\n",
       "      <td>Arizona Diamondbacks<\/td>\n",
       "      <td>0<\/td>\n",
       "      <td>...<\/td>\n",
       "      <td>77.0<\/td>\n",
       "      <td>0.0<\/td>\n",
       "      <td>in unknown direction<\/td>\n",
       "      <td>In Dome<\/td>\n",
       "      <td>7<\/td>\n",
       "      <td>2.650000<\/td>\n",
       "      <td>regular season<\/td>\n",
       "      <td>0<\/td>\n",
       "      <td>1<\/td>\n",
       "      <td>Loss<\/td>\n",
       "    <\/tr>\n",
       "    <tr>\n",
       "      <th>5<\/th>\n",
       "      <td>28386.0<\/td>\n",
       "      <td>Seattle Mariners<\/td>\n",
       "      <td>1<\/td>\n",
       "      <td>11<\/td>\n",
       "      <td>10<\/td>\n",
       "      <td>2016-04-05<\/td>\n",
       "      <td>on grass<\/td>\n",
       "      <td>Night Game<\/td>\n",
       "      <td>Texas Rangers<\/td>\n",
       "      <td>1<\/td>\n",
       "      <td>...<\/td>\n",
       "      <td>81.0<\/td>\n",
       "      <td>12.0<\/td>\n",
       "      <td>from Right to Left<\/td>\n",
       "      <td>Cloudy<\/td>\n",
       "      <td>12<\/td>\n",
       "      <td>3.500000<\/td>\n",
       "      <td>regular season<\/td>\n",
       "      <td>0<\/td>\n",
       "      <td>1<\/td>\n",
       "      <td>Loss<\/td>\n",
       "    <\/tr>\n",
       "    <tr>\n",
       "      <th>6<\/th>\n",
       "      <td>12757.0<\/td>\n",
       "      <td>Toronto Blue Jays<\/td>\n",
       "      <td>0<\/td>\n",
       "      <td>9<\/td>\n",
       "      <td>2<\/td>\n",
       "      <td>2016-04-05<\/td>\n",
       "      <td>on turf<\/td>\n",
       "      <td>Night Game<\/td>\n",
       "      <td>Tampa Bay Rays<\/td>\n",
       "      <td>1<\/td>\n",
       "      <td>...<\/td>\n",
       "      <td>72.0<\/td>\n",
       "      <td>0.0<\/td>\n",
       "      <td>in unknown direction<\/td>\n",
       "      <td>In Dome<\/td>\n",
       "      <td>5<\/td>\n",
       "      <td>3.116667<\/td>\n",
       "      <td>regular season<\/td>\n",
       "      <td>1<\/td>\n",
       "      <td>0<\/td>\n",
       "      <td>Win<\/td>\n",
       "    <\/tr>\n",
       "    <tr>\n",
       "      <th>7<\/th>\n",
       "      <td>28329.0<\/td>\n",
       "      <td>Los Angeles Dodgers<\/td>\n",
       "      <td>0<\/td>\n",
       "      <td>6<\/td>\n",
       "      <td>3<\/td>\n",
       "      <td>2016-04-05<\/td>\n",
       "      <td>on grass<\/td>\n",
       "      <td>Night Game<\/td>\n",
       "      <td>San Diego Padres<\/td>\n",
       "      <td>1<\/td>\n",
       "      <td>...<\/td>\n",
       "      <td>70.0<\/td>\n",
       "      <td>6.0<\/td>\n",
       "      <td>from Left to Right<\/td>\n",
       "      <td>Unknown<\/td>\n",
       "      <td>3<\/td>\n",
       "      <td>2.600000<\/td>\n",
       "      <td>regular season<\/td>\n",
       "      <td>0<\/td>\n",
       "      <td>1<\/td>\n",
       "      <td>Loss<\/td>\n",
       "    <\/tr>\n",
       "    <tr>\n",
       "      <th>8<\/th>\n",
       "      <td>26049.0<\/td>\n",
       "      <td>St. Louis Cardinals<\/td>\n",
       "      <td>1<\/td>\n",
       "      <td>8<\/td>\n",
       "      <td>5<\/td>\n",
       "      <td>2016-04-05<\/td>\n",
       "      <td>on grass<\/td>\n",
       "      <td>Night Game<\/td>\n",
       "      <td>Pittsburgh Pirates<\/td>\n",
       "      <td>2<\/td>\n",
       "      <td>...<\/td>\n",
       "      <td>40.0<\/td>\n",
       "      <td>7.0<\/td>\n",
       "      <td>out to Leftfield<\/td>\n",
       "      <td>Sunny<\/td>\n",
       "      <td>11<\/td>\n",
       "      <td>3.450000<\/td>\n",
       "      <td>regular season<\/td>\n",
       "      <td>1<\/td>\n",
       "      <td>0<\/td>\n",
       "      <td>Win<\/td>\n",
       "    <\/tr>\n",
       "    <tr>\n",
       "      <th>9<\/th>\n",
       "      <td>10478.0<\/td>\n",
       "      <td>Chicago White Sox<\/td>\n",
       "      <td>0<\/td>\n",
       "      <td>11<\/td>\n",
       "      <td>5<\/td>\n",
       "      <td>2016-04-05<\/td>\n",
       "      <td>on grass<\/td>\n",
       "      <td>Night Game<\/td>\n",
       "      <td>Oakland Athletics<\/td>\n",
       "      <td>0<\/td>\n",
       "      <td>...<\/td>\n",
       "      <td>70.0<\/td>\n",
       "      <td>8.0<\/td>\n",
       "      <td>out to Rightfield<\/td>\n",
       "      <td>Cloudy<\/td>\n",
       "      <td>9<\/td>\n",
       "      <td>3.466667<\/td>\n",
       "      <td>regular season<\/td>\n",
       "      <td>0<\/td>\n",
       "      <td>1<\/td>\n",
       "      <td>Loss<\/td>\n",
       "    <\/tr>\n",
       "  <\/tbody>\n",
       "<\/table>\n",
       "<p>10 rows × 25 columns<\/p>\n",
       "<\/div>"
      ]
     },
     "metadata":{
      
     },
     "output_type":"display_data"
    }
   ],
   "metadata":{
    "datalore":{
     "type":"CODE",
     "hide_input_from_viewers":false,
     "hide_output_from_viewers":false
    }
   }
  },
  {
   "cell_type":"markdown",
   "source":[
    "# 1. На какую игру пришло максимальное количество зрителей за весь сезон игр?"
   ],
   "attachments":{
    
   },
   "metadata":{
    "datalore":{
     "type":"MD",
     "hide_input_from_viewers":false,
     "hide_output_from_viewers":false
    }
   }
  },
  {
   "cell_type":"code",
   "source":[
    "season_games[season_games.attendance == season_games.attendance.max()]"
   ],
   "execution_count":223,
   "outputs":[
    {
     "data":{
      "text\/html":[
       "<div>\n",
       "<style scoped>\n",
       "    .dataframe tbody tr th:only-of-type {\n",
       "        vertical-align: middle;\n",
       "    }\n",
       "\n",
       "    .dataframe tbody tr th {\n",
       "        vertical-align: top;\n",
       "    }\n",
       "\n",
       "    .dataframe thead th {\n",
       "        text-align: right;\n",
       "    }\n",
       "<\/style>\n",
       "<table border=\"1\" class=\"dataframe\">\n",
       "  <thead>\n",
       "    <tr style=\"text-align: right;\">\n",
       "      <th><\/th>\n",
       "      <th>attendance<\/th>\n",
       "      <th>away_team<\/th>\n",
       "      <th>away_team_errors<\/th>\n",
       "      <th>away_team_hits<\/th>\n",
       "      <th>away_team_runs<\/th>\n",
       "      <th>date<\/th>\n",
       "      <th>field_type<\/th>\n",
       "      <th>game_type<\/th>\n",
       "      <th>home_team<\/th>\n",
       "      <th>home_team_errors<\/th>\n",
       "      <th>...<\/th>\n",
       "      <th>temperature<\/th>\n",
       "      <th>wind_speed<\/th>\n",
       "      <th>wind_direction<\/th>\n",
       "      <th>sky<\/th>\n",
       "      <th>total_runs<\/th>\n",
       "      <th>game_hours_dec<\/th>\n",
       "      <th>season<\/th>\n",
       "      <th>home_team_win<\/th>\n",
       "      <th>home_team_loss<\/th>\n",
       "      <th>home_team_outcome<\/th>\n",
       "    <\/tr>\n",
       "  <\/thead>\n",
       "  <tbody>\n",
       "    <tr>\n",
       "      <th>499<\/th>\n",
       "      <td>53621.0<\/td>\n",
       "      <td>San Francisco Giants<\/td>\n",
       "      <td>1<\/td>\n",
       "      <td>11<\/td>\n",
       "      <td>2<\/td>\n",
       "      <td>2016-09-20<\/td>\n",
       "      <td>on grass<\/td>\n",
       "      <td>Night Game<\/td>\n",
       "      <td>Los Angeles Dodgers<\/td>\n",
       "      <td>0<\/td>\n",
       "      <td>...<\/td>\n",
       "      <td>77.0<\/td>\n",
       "      <td>6.0<\/td>\n",
       "      <td>out to Rightfield<\/td>\n",
       "      <td>Cloudy<\/td>\n",
       "      <td>2<\/td>\n",
       "      <td>3.6<\/td>\n",
       "      <td>regular season<\/td>\n",
       "      <td>0<\/td>\n",
       "      <td>1<\/td>\n",
       "      <td>Loss<\/td>\n",
       "    <\/tr>\n",
       "  <\/tbody>\n",
       "<\/table>\n",
       "<p>1 rows × 25 columns<\/p>\n",
       "<\/div>"
      ]
     },
     "metadata":{
      
     },
     "output_type":"display_data"
    }
   ],
   "metadata":{
    "datalore":{
     "type":"CODE",
     "hide_input_from_viewers":false,
     "hide_output_from_viewers":false
    }
   }
  },
  {
   "cell_type":"markdown",
   "source":[
    "# 2. Какая игра была самая холодная (temperature) за весь сезон?"
   ],
   "attachments":{
    
   },
   "metadata":{
    "datalore":{
     "type":"MD",
     "hide_input_from_viewers":false,
     "hide_output_from_viewers":false
    }
   }
  },
  {
   "cell_type":"code",
   "source":[
    "season_games[season_games.temperature == season_games.temperature.min()]"
   ],
   "execution_count":224,
   "outputs":[
    {
     "data":{
      "text\/html":[
       "<div>\n",
       "<style scoped>\n",
       "    .dataframe tbody tr th:only-of-type {\n",
       "        vertical-align: middle;\n",
       "    }\n",
       "\n",
       "    .dataframe tbody tr th {\n",
       "        vertical-align: top;\n",
       "    }\n",
       "\n",
       "    .dataframe thead th {\n",
       "        text-align: right;\n",
       "    }\n",
       "<\/style>\n",
       "<table border=\"1\" class=\"dataframe\">\n",
       "  <thead>\n",
       "    <tr style=\"text-align: right;\">\n",
       "      <th><\/th>\n",
       "      <th>attendance<\/th>\n",
       "      <th>away_team<\/th>\n",
       "      <th>away_team_errors<\/th>\n",
       "      <th>away_team_hits<\/th>\n",
       "      <th>away_team_runs<\/th>\n",
       "      <th>date<\/th>\n",
       "      <th>field_type<\/th>\n",
       "      <th>game_type<\/th>\n",
       "      <th>home_team<\/th>\n",
       "      <th>home_team_errors<\/th>\n",
       "      <th>...<\/th>\n",
       "      <th>temperature<\/th>\n",
       "      <th>wind_speed<\/th>\n",
       "      <th>wind_direction<\/th>\n",
       "      <th>sky<\/th>\n",
       "      <th>total_runs<\/th>\n",
       "      <th>game_hours_dec<\/th>\n",
       "      <th>season<\/th>\n",
       "      <th>home_team_win<\/th>\n",
       "      <th>home_team_loss<\/th>\n",
       "      <th>home_team_outcome<\/th>\n",
       "    <\/tr>\n",
       "  <\/thead>\n",
       "  <tbody>\n",
       "    <tr>\n",
       "      <th>2374<\/th>\n",
       "      <td>32419.0<\/td>\n",
       "      <td>New York Yankees<\/td>\n",
       "      <td>1<\/td>\n",
       "      <td>13<\/td>\n",
       "      <td>8<\/td>\n",
       "      <td>2016-04-09<\/td>\n",
       "      <td>on grass<\/td>\n",
       "      <td>Day Game<\/td>\n",
       "      <td>Detroit Tigers<\/td>\n",
       "      <td>1<\/td>\n",
       "      <td>...<\/td>\n",
       "      <td>31.0<\/td>\n",
       "      <td>18.0<\/td>\n",
       "      <td>from Left to Right<\/td>\n",
       "      <td>Cloudy<\/td>\n",
       "      <td>12<\/td>\n",
       "      <td>3.333333<\/td>\n",
       "      <td>regular season<\/td>\n",
       "      <td>0<\/td>\n",
       "      <td>1<\/td>\n",
       "      <td>Loss<\/td>\n",
       "    <\/tr>\n",
       "  <\/tbody>\n",
       "<\/table>\n",
       "<p>1 rows × 25 columns<\/p>\n",
       "<\/div>"
      ]
     },
     "metadata":{
      
     },
     "output_type":"display_data"
    }
   ],
   "metadata":{
    "datalore":{
     "type":"CODE",
     "hide_input_from_viewers":false,
     "hide_output_from_viewers":false
    }
   }
  },
  {
   "cell_type":"markdown",
   "source":[
    "# 3. Какая игра была самая теплая за весь сезон?"
   ],
   "attachments":{
    
   },
   "metadata":{
    "datalore":{
     "type":"MD",
     "hide_input_from_viewers":false,
     "hide_output_from_viewers":false
    }
   }
  },
  {
   "cell_type":"code",
   "source":[
    "season_games[season_games.temperature == season_games.temperature.max()]"
   ],
   "execution_count":225,
   "outputs":[
    {
     "data":{
      "text\/html":[
       "<div>\n",
       "<style scoped>\n",
       "    .dataframe tbody tr th:only-of-type {\n",
       "        vertical-align: middle;\n",
       "    }\n",
       "\n",
       "    .dataframe tbody tr th {\n",
       "        vertical-align: top;\n",
       "    }\n",
       "\n",
       "    .dataframe thead th {\n",
       "        text-align: right;\n",
       "    }\n",
       "<\/style>\n",
       "<table border=\"1\" class=\"dataframe\">\n",
       "  <thead>\n",
       "    <tr style=\"text-align: right;\">\n",
       "      <th><\/th>\n",
       "      <th>attendance<\/th>\n",
       "      <th>away_team<\/th>\n",
       "      <th>away_team_errors<\/th>\n",
       "      <th>away_team_hits<\/th>\n",
       "      <th>away_team_runs<\/th>\n",
       "      <th>date<\/th>\n",
       "      <th>field_type<\/th>\n",
       "      <th>game_type<\/th>\n",
       "      <th>home_team<\/th>\n",
       "      <th>home_team_errors<\/th>\n",
       "      <th>...<\/th>\n",
       "      <th>temperature<\/th>\n",
       "      <th>wind_speed<\/th>\n",
       "      <th>wind_direction<\/th>\n",
       "      <th>sky<\/th>\n",
       "      <th>total_runs<\/th>\n",
       "      <th>game_hours_dec<\/th>\n",
       "      <th>season<\/th>\n",
       "      <th>home_team_win<\/th>\n",
       "      <th>home_team_loss<\/th>\n",
       "      <th>home_team_outcome<\/th>\n",
       "    <\/tr>\n",
       "  <\/thead>\n",
       "  <tbody>\n",
       "    <tr>\n",
       "      <th>1991<\/th>\n",
       "      <td>21753.0<\/td>\n",
       "      <td>San Francisco Giants<\/td>\n",
       "      <td>0<\/td>\n",
       "      <td>8<\/td>\n",
       "      <td>3<\/td>\n",
       "      <td>2016-05-13<\/td>\n",
       "      <td>on grass<\/td>\n",
       "      <td>Night Game<\/td>\n",
       "      <td>Arizona Diamondbacks<\/td>\n",
       "      <td>0<\/td>\n",
       "      <td>...<\/td>\n",
       "      <td>101.0<\/td>\n",
       "      <td>9.0<\/td>\n",
       "      <td>in unknown direction<\/td>\n",
       "      <td>Sunny<\/td>\n",
       "      <td>4<\/td>\n",
       "      <td>3.0<\/td>\n",
       "      <td>regular season<\/td>\n",
       "      <td>0<\/td>\n",
       "      <td>1<\/td>\n",
       "      <td>Loss<\/td>\n",
       "    <\/tr>\n",
       "  <\/tbody>\n",
       "<\/table>\n",
       "<p>1 rows × 25 columns<\/p>\n",
       "<\/div>"
      ]
     },
     "metadata":{
      
     },
     "output_type":"display_data"
    }
   ],
   "metadata":{
    "datalore":{
     "type":"CODE",
     "hide_input_from_viewers":false,
     "hide_output_from_viewers":false
    }
   }
  },
  {
   "cell_type":"markdown",
   "source":[
    "# 4. Какая игра в сезоне была самая долгая по продолжительности матча?"
   ],
   "attachments":{
    
   },
   "metadata":{
    "datalore":{
     "type":"MD",
     "hide_input_from_viewers":false,
     "hide_output_from_viewers":false
    }
   }
  },
  {
   "cell_type":"code",
   "source":[
    "season_games[season_games.game_hours_dec == season_games.game_hours_dec.max()]"
   ],
   "execution_count":226,
   "outputs":[
    {
     "data":{
      "text\/html":[
       "<div>\n",
       "<style scoped>\n",
       "    .dataframe tbody tr th:only-of-type {\n",
       "        vertical-align: middle;\n",
       "    }\n",
       "\n",
       "    .dataframe tbody tr th {\n",
       "        vertical-align: top;\n",
       "    }\n",
       "\n",
       "    .dataframe thead th {\n",
       "        text-align: right;\n",
       "    }\n",
       "<\/style>\n",
       "<table border=\"1\" class=\"dataframe\">\n",
       "  <thead>\n",
       "    <tr style=\"text-align: right;\">\n",
       "      <th><\/th>\n",
       "      <th>attendance<\/th>\n",
       "      <th>away_team<\/th>\n",
       "      <th>away_team_errors<\/th>\n",
       "      <th>away_team_hits<\/th>\n",
       "      <th>away_team_runs<\/th>\n",
       "      <th>date<\/th>\n",
       "      <th>field_type<\/th>\n",
       "      <th>game_type<\/th>\n",
       "      <th>home_team<\/th>\n",
       "      <th>home_team_errors<\/th>\n",
       "      <th>...<\/th>\n",
       "      <th>temperature<\/th>\n",
       "      <th>wind_speed<\/th>\n",
       "      <th>wind_direction<\/th>\n",
       "      <th>sky<\/th>\n",
       "      <th>total_runs<\/th>\n",
       "      <th>game_hours_dec<\/th>\n",
       "      <th>season<\/th>\n",
       "      <th>home_team_win<\/th>\n",
       "      <th>home_team_loss<\/th>\n",
       "      <th>home_team_outcome<\/th>\n",
       "    <\/tr>\n",
       "  <\/thead>\n",
       "  <tbody>\n",
       "    <tr>\n",
       "      <th>1410<\/th>\n",
       "      <td>45825.0<\/td>\n",
       "      <td>Cleveland Indians<\/td>\n",
       "      <td>0<\/td>\n",
       "      <td>15<\/td>\n",
       "      <td>2<\/td>\n",
       "      <td>2016-07-01<\/td>\n",
       "      <td>on turf<\/td>\n",
       "      <td>Day Game<\/td>\n",
       "      <td>Toronto Blue Jays<\/td>\n",
       "      <td>2<\/td>\n",
       "      <td>...<\/td>\n",
       "      <td>68.0<\/td>\n",
       "      <td>0.0<\/td>\n",
       "      <td>in unknown direction<\/td>\n",
       "      <td>In Dome<\/td>\n",
       "      <td>3<\/td>\n",
       "      <td>6.216667<\/td>\n",
       "      <td>regular season<\/td>\n",
       "      <td>0<\/td>\n",
       "      <td>1<\/td>\n",
       "      <td>Loss<\/td>\n",
       "    <\/tr>\n",
       "  <\/tbody>\n",
       "<\/table>\n",
       "<p>1 rows × 25 columns<\/p>\n",
       "<\/div>"
      ]
     },
     "metadata":{
      
     },
     "output_type":"display_data"
    }
   ],
   "metadata":{
    "datalore":{
     "type":"CODE",
     "hide_input_from_viewers":false,
     "hide_output_from_viewers":false
    }
   }
  },
  {
   "cell_type":"markdown",
   "source":[
    "# 5. Какая игра в сезоне была самая короткая по продолжительности матча?"
   ],
   "attachments":{
    
   },
   "metadata":{
    "datalore":{
     "type":"MD",
     "hide_input_from_viewers":false,
     "hide_output_from_viewers":false
    }
   }
  },
  {
   "cell_type":"code",
   "source":[
    "season_games[season_games.game_hours_dec == season_games.game_hours_dec.min()]"
   ],
   "execution_count":227,
   "outputs":[
    {
     "data":{
      "text\/html":[
       "<div>\n",
       "<style scoped>\n",
       "    .dataframe tbody tr th:only-of-type {\n",
       "        vertical-align: middle;\n",
       "    }\n",
       "\n",
       "    .dataframe tbody tr th {\n",
       "        vertical-align: top;\n",
       "    }\n",
       "\n",
       "    .dataframe thead th {\n",
       "        text-align: right;\n",
       "    }\n",
       "<\/style>\n",
       "<table border=\"1\" class=\"dataframe\">\n",
       "  <thead>\n",
       "    <tr style=\"text-align: right;\">\n",
       "      <th><\/th>\n",
       "      <th>attendance<\/th>\n",
       "      <th>away_team<\/th>\n",
       "      <th>away_team_errors<\/th>\n",
       "      <th>away_team_hits<\/th>\n",
       "      <th>away_team_runs<\/th>\n",
       "      <th>date<\/th>\n",
       "      <th>field_type<\/th>\n",
       "      <th>game_type<\/th>\n",
       "      <th>home_team<\/th>\n",
       "      <th>home_team_errors<\/th>\n",
       "      <th>...<\/th>\n",
       "      <th>temperature<\/th>\n",
       "      <th>wind_speed<\/th>\n",
       "      <th>wind_direction<\/th>\n",
       "      <th>sky<\/th>\n",
       "      <th>total_runs<\/th>\n",
       "      <th>game_hours_dec<\/th>\n",
       "      <th>season<\/th>\n",
       "      <th>home_team_win<\/th>\n",
       "      <th>home_team_loss<\/th>\n",
       "      <th>home_team_outcome<\/th>\n",
       "    <\/tr>\n",
       "  <\/thead>\n",
       "  <tbody>\n",
       "    <tr>\n",
       "      <th>388<\/th>\n",
       "      <td>19991.0<\/td>\n",
       "      <td>Chicago Cubs<\/td>\n",
       "      <td>1<\/td>\n",
       "      <td>4<\/td>\n",
       "      <td>1<\/td>\n",
       "      <td>2016-09-29<\/td>\n",
       "      <td>on grass<\/td>\n",
       "      <td>Night Game<\/td>\n",
       "      <td>Pittsburgh Pirates<\/td>\n",
       "      <td>0<\/td>\n",
       "      <td>...<\/td>\n",
       "      <td>63.0<\/td>\n",
       "      <td>12.0<\/td>\n",
       "      <td>in from Leftfield<\/td>\n",
       "      <td>Overcast<\/td>\n",
       "      <td>2<\/td>\n",
       "      <td>1.25<\/td>\n",
       "      <td>regular season<\/td>\n",
       "      <td>0<\/td>\n",
       "      <td>0<\/td>\n",
       "      <td>Loss<\/td>\n",
       "    <\/tr>\n",
       "  <\/tbody>\n",
       "<\/table>\n",
       "<p>1 rows × 25 columns<\/p>\n",
       "<\/div>"
      ]
     },
     "metadata":{
      
     },
     "output_type":"display_data"
    }
   ],
   "metadata":{
    "datalore":{
     "type":"CODE",
     "hide_input_from_viewers":false,
     "hide_output_from_viewers":false
    }
   }
  },
  {
   "cell_type":"markdown",
   "source":[
    "# 6. Сколько матчей в сезоне закончилось ничьей?"
   ],
   "attachments":{
    
   },
   "metadata":{
    "datalore":{
     "type":"MD",
     "hide_input_from_viewers":false,
     "hide_output_from_viewers":false
    }
   }
  },
  {
   "cell_type":"code",
   "source":[
    "win_loss_games = season_games.drop(season_games[(season_games['home_team_loss'] == 0) \n",
    "                                                & (season_games['home_team_win'] == 0)].index)\n",
    "season_games[(season_games['home_team_loss'] == 0) & (season_games['home_team_win'] == 0)].shape[0]"
   ],
   "execution_count":228,
   "outputs":[
    {
     "data":{
      "text\/plain":[
       "1"
      ]
     },
     "metadata":{
      
     },
     "output_type":"display_data"
    }
   ],
   "metadata":{
    "datalore":{
     "type":"CODE",
     "hide_input_from_viewers":false,
     "hide_output_from_viewers":false
    }
   }
  },
  {
   "cell_type":"markdown",
   "source":[
    "# 7. Какая игра была последней в сезоне?"
   ],
   "attachments":{
    
   },
   "metadata":{
    "datalore":{
     "type":"MD",
     "hide_input_from_viewers":false,
     "hide_output_from_viewers":false
    }
   }
  },
  {
   "cell_type":"code",
   "source":[
    "season_games['date'] = pd.to_datetime(season_games['date'])\n",
    "season_games[season_games.date == season_games.date.max()]"
   ],
   "execution_count":229,
   "outputs":[
    {
     "data":{
      "text\/html":[
       "<div>\n",
       "<style scoped>\n",
       "    .dataframe tbody tr th:only-of-type {\n",
       "        vertical-align: middle;\n",
       "    }\n",
       "\n",
       "    .dataframe tbody tr th {\n",
       "        vertical-align: top;\n",
       "    }\n",
       "\n",
       "    .dataframe thead th {\n",
       "        text-align: right;\n",
       "    }\n",
       "<\/style>\n",
       "<table border=\"1\" class=\"dataframe\">\n",
       "  <thead>\n",
       "    <tr style=\"text-align: right;\">\n",
       "      <th><\/th>\n",
       "      <th>attendance<\/th>\n",
       "      <th>away_team<\/th>\n",
       "      <th>away_team_errors<\/th>\n",
       "      <th>away_team_hits<\/th>\n",
       "      <th>away_team_runs<\/th>\n",
       "      <th>date<\/th>\n",
       "      <th>field_type<\/th>\n",
       "      <th>game_type<\/th>\n",
       "      <th>home_team<\/th>\n",
       "      <th>home_team_errors<\/th>\n",
       "      <th>...<\/th>\n",
       "      <th>temperature<\/th>\n",
       "      <th>wind_speed<\/th>\n",
       "      <th>wind_direction<\/th>\n",
       "      <th>sky<\/th>\n",
       "      <th>total_runs<\/th>\n",
       "      <th>game_hours_dec<\/th>\n",
       "      <th>season<\/th>\n",
       "      <th>home_team_win<\/th>\n",
       "      <th>home_team_loss<\/th>\n",
       "      <th>home_team_outcome<\/th>\n",
       "    <\/tr>\n",
       "  <\/thead>\n",
       "  <tbody>\n",
       "    <tr>\n",
       "      <th>349<\/th>\n",
       "      <td>28730.0<\/td>\n",
       "      <td>Miami Marlins<\/td>\n",
       "      <td>0<\/td>\n",
       "      <td>14<\/td>\n",
       "      <td>7<\/td>\n",
       "      <td>2016-10-02<\/td>\n",
       "      <td>on grass<\/td>\n",
       "      <td>Day Game<\/td>\n",
       "      <td>Washington Nationals<\/td>\n",
       "      <td>0<\/td>\n",
       "      <td>...<\/td>\n",
       "      <td>73.0<\/td>\n",
       "      <td>2.0<\/td>\n",
       "      <td>from Left to Right<\/td>\n",
       "      <td>Overcast<\/td>\n",
       "      <td>17<\/td>\n",
       "      <td>3.600000<\/td>\n",
       "      <td>regular season<\/td>\n",
       "      <td>1<\/td>\n",
       "      <td>0<\/td>\n",
       "      <td>Win<\/td>\n",
       "    <\/tr>\n",
       "    <tr>\n",
       "      <th>350<\/th>\n",
       "      <td>37015.0<\/td>\n",
       "      <td>Tampa Bay Rays<\/td>\n",
       "      <td>0<\/td>\n",
       "      <td>13<\/td>\n",
       "      <td>6<\/td>\n",
       "      <td>2016-10-02<\/td>\n",
       "      <td>on grass<\/td>\n",
       "      <td>Day Game<\/td>\n",
       "      <td>Texas Rangers<\/td>\n",
       "      <td>2<\/td>\n",
       "      <td>...<\/td>\n",
       "      <td>82.0<\/td>\n",
       "      <td>7.0<\/td>\n",
       "      <td>from Left to Right<\/td>\n",
       "      <td>Sunny<\/td>\n",
       "      <td>10<\/td>\n",
       "      <td>4.000000<\/td>\n",
       "      <td>regular season<\/td>\n",
       "      <td>0<\/td>\n",
       "      <td>1<\/td>\n",
       "      <td>Loss<\/td>\n",
       "    <\/tr>\n",
       "    <tr>\n",
       "      <th>351<\/th>\n",
       "      <td>44615.0<\/td>\n",
       "      <td>Pittsburgh Pirates<\/td>\n",
       "      <td>2<\/td>\n",
       "      <td>9<\/td>\n",
       "      <td>4<\/td>\n",
       "      <td>2016-10-02<\/td>\n",
       "      <td>on grass<\/td>\n",
       "      <td>Day Game<\/td>\n",
       "      <td>St. Louis Cardinals<\/td>\n",
       "      <td>0<\/td>\n",
       "      <td>...<\/td>\n",
       "      <td>71.0<\/td>\n",
       "      <td>6.0<\/td>\n",
       "      <td>out to Leftfield<\/td>\n",
       "      <td>Unknown<\/td>\n",
       "      <td>14<\/td>\n",
       "      <td>3.200000<\/td>\n",
       "      <td>regular season<\/td>\n",
       "      <td>1<\/td>\n",
       "      <td>0<\/td>\n",
       "      <td>Win<\/td>\n",
       "    <\/tr>\n",
       "    <tr>\n",
       "      <th>352<\/th>\n",
       "      <td>41445.0<\/td>\n",
       "      <td>Los Angeles Dodgers<\/td>\n",
       "      <td>1<\/td>\n",
       "      <td>4<\/td>\n",
       "      <td>1<\/td>\n",
       "      <td>2016-10-02<\/td>\n",
       "      <td>on grass<\/td>\n",
       "      <td>Day Game<\/td>\n",
       "      <td>San Francisco Giants<\/td>\n",
       "      <td>0<\/td>\n",
       "      <td>...<\/td>\n",
       "      <td>62.0<\/td>\n",
       "      <td>10.0<\/td>\n",
       "      <td>out to Centerfield<\/td>\n",
       "      <td>Unknown<\/td>\n",
       "      <td>8<\/td>\n",
       "      <td>3.066667<\/td>\n",
       "      <td>regular season<\/td>\n",
       "      <td>1<\/td>\n",
       "      <td>0<\/td>\n",
       "      <td>Win<\/td>\n",
       "    <\/tr>\n",
       "    <tr>\n",
       "      <th>353<\/th>\n",
       "      <td>24856.0<\/td>\n",
       "      <td>Oakland Athletics<\/td>\n",
       "      <td>0<\/td>\n",
       "      <td>7<\/td>\n",
       "      <td>3<\/td>\n",
       "      <td>2016-10-02<\/td>\n",
       "      <td>on grass<\/td>\n",
       "      <td>Day Game<\/td>\n",
       "      <td>Seattle Mariners<\/td>\n",
       "      <td>0<\/td>\n",
       "      <td>...<\/td>\n",
       "      <td>58.0<\/td>\n",
       "      <td>1.0<\/td>\n",
       "      <td>out to Centerfield<\/td>\n",
       "      <td>Unknown<\/td>\n",
       "      <td>5<\/td>\n",
       "      <td>2.566667<\/td>\n",
       "      <td>regular season<\/td>\n",
       "      <td>0<\/td>\n",
       "      <td>1<\/td>\n",
       "      <td>Loss<\/td>\n",
       "    <\/tr>\n",
       "    <tr>\n",
       "      <th>354<\/th>\n",
       "      <td>36935.0<\/td>\n",
       "      <td>New York Mets<\/td>\n",
       "      <td>3<\/td>\n",
       "      <td>8<\/td>\n",
       "      <td>2<\/td>\n",
       "      <td>2016-10-02<\/td>\n",
       "      <td>on grass<\/td>\n",
       "      <td>Day Game<\/td>\n",
       "      <td>Philadelphia Phillies<\/td>\n",
       "      <td>0<\/td>\n",
       "      <td>...<\/td>\n",
       "      <td>66.0<\/td>\n",
       "      <td>2.0<\/td>\n",
       "      <td>from Right to Left<\/td>\n",
       "      <td>Cloudy<\/td>\n",
       "      <td>7<\/td>\n",
       "      <td>2.650000<\/td>\n",
       "      <td>regular season<\/td>\n",
       "      <td>1<\/td>\n",
       "      <td>0<\/td>\n",
       "      <td>Win<\/td>\n",
       "    <\/tr>\n",
       "    <tr>\n",
       "      <th>355<\/th>\n",
       "      <td>33277.0<\/td>\n",
       "      <td>Baltimore Orioles<\/td>\n",
       "      <td>0<\/td>\n",
       "      <td>7<\/td>\n",
       "      <td>5<\/td>\n",
       "      <td>2016-10-02<\/td>\n",
       "      <td>on grass<\/td>\n",
       "      <td>Day Game<\/td>\n",
       "      <td>New York Yankees<\/td>\n",
       "      <td>0<\/td>\n",
       "      <td>...<\/td>\n",
       "      <td>60.0<\/td>\n",
       "      <td>4.0<\/td>\n",
       "      <td>from Left to Right<\/td>\n",
       "      <td>Unknown<\/td>\n",
       "      <td>7<\/td>\n",
       "      <td>2.533333<\/td>\n",
       "      <td>regular season<\/td>\n",
       "      <td>0<\/td>\n",
       "      <td>1<\/td>\n",
       "      <td>Loss<\/td>\n",
       "    <\/tr>\n",
       "    <tr>\n",
       "      <th>356<\/th>\n",
       "      <td>29475.0<\/td>\n",
       "      <td>Cleveland Indians<\/td>\n",
       "      <td>0<\/td>\n",
       "      <td>4<\/td>\n",
       "      <td>3<\/td>\n",
       "      <td>2016-10-02<\/td>\n",
       "      <td>on grass<\/td>\n",
       "      <td>Day Game<\/td>\n",
       "      <td>Kansas City Royals<\/td>\n",
       "      <td>0<\/td>\n",
       "      <td>...<\/td>\n",
       "      <td>73.0<\/td>\n",
       "      <td>2.0<\/td>\n",
       "      <td>from Right to Left<\/td>\n",
       "      <td>Cloudy<\/td>\n",
       "      <td>5<\/td>\n",
       "      <td>2.433333<\/td>\n",
       "      <td>regular season<\/td>\n",
       "      <td>0<\/td>\n",
       "      <td>1<\/td>\n",
       "      <td>Loss<\/td>\n",
       "    <\/tr>\n",
       "    <tr>\n",
       "      <th>357<\/th>\n",
       "      <td>27762.0<\/td>\n",
       "      <td>Milwaukee Brewers<\/td>\n",
       "      <td>1<\/td>\n",
       "      <td>10<\/td>\n",
       "      <td>6<\/td>\n",
       "      <td>2016-10-02<\/td>\n",
       "      <td>on grass<\/td>\n",
       "      <td>Day Game<\/td>\n",
       "      <td>Colorado Rockies<\/td>\n",
       "      <td>0<\/td>\n",
       "      <td>...<\/td>\n",
       "      <td>77.0<\/td>\n",
       "      <td>3.0<\/td>\n",
       "      <td>out to Centerfield<\/td>\n",
       "      <td>Sunny<\/td>\n",
       "      <td>10<\/td>\n",
       "      <td>3.383333<\/td>\n",
       "      <td>regular season<\/td>\n",
       "      <td>0<\/td>\n",
       "      <td>1<\/td>\n",
       "      <td>Loss<\/td>\n",
       "    <\/tr>\n",
       "    <tr>\n",
       "      <th>358<\/th>\n",
       "      <td>32587.0<\/td>\n",
       "      <td>Chicago Cubs<\/td>\n",
       "      <td>0<\/td>\n",
       "      <td>9<\/td>\n",
       "      <td>7<\/td>\n",
       "      <td>2016-10-02<\/td>\n",
       "      <td>on grass<\/td>\n",
       "      <td>Day Game<\/td>\n",
       "      <td>Cincinnati Reds<\/td>\n",
       "      <td>0<\/td>\n",
       "      <td>...<\/td>\n",
       "      <td>71.0<\/td>\n",
       "      <td>7.0<\/td>\n",
       "      <td>out to Leftfield<\/td>\n",
       "      <td>Unknown<\/td>\n",
       "      <td>11<\/td>\n",
       "      <td>3.300000<\/td>\n",
       "      <td>regular season<\/td>\n",
       "      <td>0<\/td>\n",
       "      <td>1<\/td>\n",
       "      <td>Loss<\/td>\n",
       "    <\/tr>\n",
       "    <tr>\n",
       "      <th>359<\/th>\n",
       "      <td>21904.0<\/td>\n",
       "      <td>Minnesota Twins<\/td>\n",
       "      <td>0<\/td>\n",
       "      <td>9<\/td>\n",
       "      <td>6<\/td>\n",
       "      <td>2016-10-02<\/td>\n",
       "      <td>on grass<\/td>\n",
       "      <td>Day Game<\/td>\n",
       "      <td>Chicago White Sox<\/td>\n",
       "      <td>0<\/td>\n",
       "      <td>...<\/td>\n",
       "      <td>65.0<\/td>\n",
       "      <td>6.0<\/td>\n",
       "      <td>out to Leftfield<\/td>\n",
       "      <td>Unknown<\/td>\n",
       "      <td>9<\/td>\n",
       "      <td>3.016667<\/td>\n",
       "      <td>regular season<\/td>\n",
       "      <td>0<\/td>\n",
       "      <td>1<\/td>\n",
       "      <td>Loss<\/td>\n",
       "    <\/tr>\n",
       "    <tr>\n",
       "      <th>360<\/th>\n",
       "      <td>36787.0<\/td>\n",
       "      <td>Toronto Blue Jays<\/td>\n",
       "      <td>0<\/td>\n",
       "      <td>9<\/td>\n",
       "      <td>2<\/td>\n",
       "      <td>2016-10-02<\/td>\n",
       "      <td>on grass<\/td>\n",
       "      <td>Day Game<\/td>\n",
       "      <td>Boston Red Sox<\/td>\n",
       "      <td>1<\/td>\n",
       "      <td>...<\/td>\n",
       "      <td>56.0<\/td>\n",
       "      <td>6.0<\/td>\n",
       "      <td>out to Leftfield<\/td>\n",
       "      <td>Unknown<\/td>\n",
       "      <td>3<\/td>\n",
       "      <td>3.233333<\/td>\n",
       "      <td>regular season<\/td>\n",
       "      <td>0<\/td>\n",
       "      <td>1<\/td>\n",
       "      <td>Loss<\/td>\n",
       "    <\/tr>\n",
       "    <tr>\n",
       "      <th>361<\/th>\n",
       "      <td>51220.0<\/td>\n",
       "      <td>Detroit Tigers<\/td>\n",
       "      <td>1<\/td>\n",
       "      <td>5<\/td>\n",
       "      <td>0<\/td>\n",
       "      <td>2016-10-02<\/td>\n",
       "      <td>on grass<\/td>\n",
       "      <td>Day Game<\/td>\n",
       "      <td>Atlanta Braves<\/td>\n",
       "      <td>0<\/td>\n",
       "      <td>...<\/td>\n",
       "      <td>80.0<\/td>\n",
       "      <td>8.0<\/td>\n",
       "      <td>from Left to Right<\/td>\n",
       "      <td>Cloudy<\/td>\n",
       "      <td>1<\/td>\n",
       "      <td>2.783333<\/td>\n",
       "      <td>regular season<\/td>\n",
       "      <td>1<\/td>\n",
       "      <td>0<\/td>\n",
       "      <td>Win<\/td>\n",
       "    <\/tr>\n",
       "    <tr>\n",
       "      <th>362<\/th>\n",
       "      <td>31385.0<\/td>\n",
       "      <td>San Diego Padres<\/td>\n",
       "      <td>0<\/td>\n",
       "      <td>7<\/td>\n",
       "      <td>2<\/td>\n",
       "      <td>2016-10-02<\/td>\n",
       "      <td>on grass<\/td>\n",
       "      <td>Day Game<\/td>\n",
       "      <td>Arizona Diamondbacks<\/td>\n",
       "      <td>0<\/td>\n",
       "      <td>...<\/td>\n",
       "      <td>79.0<\/td>\n",
       "      <td>0.0<\/td>\n",
       "      <td>in unknown direction<\/td>\n",
       "      <td>In Dome<\/td>\n",
       "      <td>5<\/td>\n",
       "      <td>2.616667<\/td>\n",
       "      <td>regular season<\/td>\n",
       "      <td>1<\/td>\n",
       "      <td>0<\/td>\n",
       "      <td>Win<\/td>\n",
       "    <\/tr>\n",
       "    <tr>\n",
       "      <th>363<\/th>\n",
       "      <td>28083.0<\/td>\n",
       "      <td>Houston Astros<\/td>\n",
       "      <td>0<\/td>\n",
       "      <td>7<\/td>\n",
       "      <td>1<\/td>\n",
       "      <td>2016-10-02<\/td>\n",
       "      <td>on grass<\/td>\n",
       "      <td>Day Game<\/td>\n",
       "      <td>Los Angeles Angels of Anaheim<\/td>\n",
       "      <td>0<\/td>\n",
       "      <td>...<\/td>\n",
       "      <td>75.0<\/td>\n",
       "      <td>5.0<\/td>\n",
       "      <td>out to Centerfield<\/td>\n",
       "      <td>Cloudy<\/td>\n",
       "      <td>9<\/td>\n",
       "      <td>2.700000<\/td>\n",
       "      <td>regular season<\/td>\n",
       "      <td>1<\/td>\n",
       "      <td>0<\/td>\n",
       "      <td>Win<\/td>\n",
       "    <\/tr>\n",
       "  <\/tbody>\n",
       "<\/table>\n",
       "<p>15 rows × 25 columns<\/p>\n",
       "<\/div>"
      ]
     },
     "metadata":{
      
     },
     "output_type":"display_data"
    }
   ],
   "metadata":{
    "datalore":{
     "type":"CODE",
     "hide_input_from_viewers":false,
     "hide_output_from_viewers":false
    }
   }
  },
  {
   "cell_type":"markdown",
   "source":[
    "# 8. У какой игры было минимальное количество зрителей?"
   ],
   "attachments":{
    
   },
   "metadata":{
    "datalore":{
     "type":"MD",
     "hide_input_from_viewers":false,
     "hide_output_from_viewers":false
    }
   }
  },
  {
   "cell_type":"code",
   "source":[
    "season_games[season_games.attendance == season_games.attendance.min()]"
   ],
   "execution_count":230,
   "outputs":[
    {
     "data":{
      "text\/html":[
       "<div>\n",
       "<style scoped>\n",
       "    .dataframe tbody tr th:only-of-type {\n",
       "        vertical-align: middle;\n",
       "    }\n",
       "\n",
       "    .dataframe tbody tr th {\n",
       "        vertical-align: top;\n",
       "    }\n",
       "\n",
       "    .dataframe thead th {\n",
       "        text-align: right;\n",
       "    }\n",
       "<\/style>\n",
       "<table border=\"1\" class=\"dataframe\">\n",
       "  <thead>\n",
       "    <tr style=\"text-align: right;\">\n",
       "      <th><\/th>\n",
       "      <th>attendance<\/th>\n",
       "      <th>away_team<\/th>\n",
       "      <th>away_team_errors<\/th>\n",
       "      <th>away_team_hits<\/th>\n",
       "      <th>away_team_runs<\/th>\n",
       "      <th>date<\/th>\n",
       "      <th>field_type<\/th>\n",
       "      <th>game_type<\/th>\n",
       "      <th>home_team<\/th>\n",
       "      <th>home_team_errors<\/th>\n",
       "      <th>...<\/th>\n",
       "      <th>temperature<\/th>\n",
       "      <th>wind_speed<\/th>\n",
       "      <th>wind_direction<\/th>\n",
       "      <th>sky<\/th>\n",
       "      <th>total_runs<\/th>\n",
       "      <th>game_hours_dec<\/th>\n",
       "      <th>season<\/th>\n",
       "      <th>home_team_win<\/th>\n",
       "      <th>home_team_loss<\/th>\n",
       "      <th>home_team_outcome<\/th>\n",
       "    <\/tr>\n",
       "  <\/thead>\n",
       "  <tbody>\n",
       "    <tr>\n",
       "      <th>2095<\/th>\n",
       "      <td>8766.0<\/td>\n",
       "      <td>Detroit Tigers<\/td>\n",
       "      <td>0<\/td>\n",
       "      <td>5<\/td>\n",
       "      <td>0<\/td>\n",
       "      <td>2016-05-04<\/td>\n",
       "      <td>on grass<\/td>\n",
       "      <td>Night Game<\/td>\n",
       "      <td>Cleveland Indians<\/td>\n",
       "      <td>0<\/td>\n",
       "      <td>...<\/td>\n",
       "      <td>54.0<\/td>\n",
       "      <td>11.0<\/td>\n",
       "      <td>from Left to Right<\/td>\n",
       "      <td>Overcast<\/td>\n",
       "      <td>4<\/td>\n",
       "      <td>2.316667<\/td>\n",
       "      <td>regular season<\/td>\n",
       "      <td>1<\/td>\n",
       "      <td>0<\/td>\n",
       "      <td>Win<\/td>\n",
       "    <\/tr>\n",
       "  <\/tbody>\n",
       "<\/table>\n",
       "<p>1 rows × 25 columns<\/p>\n",
       "<\/div>"
      ]
     },
     "metadata":{
      
     },
     "output_type":"display_data"
    }
   ],
   "metadata":{
    "datalore":{
     "type":"CODE",
     "hide_input_from_viewers":false,
     "hide_output_from_viewers":false
    }
   }
  },
  {
   "cell_type":"markdown",
   "source":[
    "# 9. Какая игра в сезоне была самая ветренная?"
   ],
   "attachments":{
    
   },
   "metadata":{
    "datalore":{
     "type":"MD",
     "hide_input_from_viewers":false,
     "hide_output_from_viewers":false
    }
   }
  },
  {
   "cell_type":"code",
   "source":[
    "season_games[season_games.wind_speed == season_games.wind_speed.max()]"
   ],
   "execution_count":231,
   "outputs":[
    {
     "data":{
      "text\/html":[
       "<div>\n",
       "<style scoped>\n",
       "    .dataframe tbody tr th:only-of-type {\n",
       "        vertical-align: middle;\n",
       "    }\n",
       "\n",
       "    .dataframe tbody tr th {\n",
       "        vertical-align: top;\n",
       "    }\n",
       "\n",
       "    .dataframe thead th {\n",
       "        text-align: right;\n",
       "    }\n",
       "<\/style>\n",
       "<table border=\"1\" class=\"dataframe\">\n",
       "  <thead>\n",
       "    <tr style=\"text-align: right;\">\n",
       "      <th><\/th>\n",
       "      <th>attendance<\/th>\n",
       "      <th>away_team<\/th>\n",
       "      <th>away_team_errors<\/th>\n",
       "      <th>away_team_hits<\/th>\n",
       "      <th>away_team_runs<\/th>\n",
       "      <th>date<\/th>\n",
       "      <th>field_type<\/th>\n",
       "      <th>game_type<\/th>\n",
       "      <th>home_team<\/th>\n",
       "      <th>home_team_errors<\/th>\n",
       "      <th>...<\/th>\n",
       "      <th>temperature<\/th>\n",
       "      <th>wind_speed<\/th>\n",
       "      <th>wind_direction<\/th>\n",
       "      <th>sky<\/th>\n",
       "      <th>total_runs<\/th>\n",
       "      <th>game_hours_dec<\/th>\n",
       "      <th>season<\/th>\n",
       "      <th>home_team_win<\/th>\n",
       "      <th>home_team_loss<\/th>\n",
       "      <th>home_team_outcome<\/th>\n",
       "    <\/tr>\n",
       "  <\/thead>\n",
       "  <tbody>\n",
       "    <tr>\n",
       "      <th>1620<\/th>\n",
       "      <td>41543.0<\/td>\n",
       "      <td>Milwaukee Brewers<\/td>\n",
       "      <td>1<\/td>\n",
       "      <td>11<\/td>\n",
       "      <td>5<\/td>\n",
       "      <td>2016-06-13<\/td>\n",
       "      <td>on grass<\/td>\n",
       "      <td>Night Game<\/td>\n",
       "      <td>San Francisco Giants<\/td>\n",
       "      <td>0<\/td>\n",
       "      <td>...<\/td>\n",
       "      <td>58.0<\/td>\n",
       "      <td>25.0<\/td>\n",
       "      <td>out to Centerfield<\/td>\n",
       "      <td>Cloudy<\/td>\n",
       "      <td>16<\/td>\n",
       "      <td>3.633333<\/td>\n",
       "      <td>regular season<\/td>\n",
       "      <td>1<\/td>\n",
       "      <td>0<\/td>\n",
       "      <td>Win<\/td>\n",
       "    <\/tr>\n",
       "    <tr>\n",
       "      <th>1970<\/th>\n",
       "      <td>35736.0<\/td>\n",
       "      <td>Houston Astros<\/td>\n",
       "      <td>2<\/td>\n",
       "      <td>8<\/td>\n",
       "      <td>9<\/td>\n",
       "      <td>2016-05-15<\/td>\n",
       "      <td>on grass<\/td>\n",
       "      <td>Day Game<\/td>\n",
       "      <td>Boston Red Sox<\/td>\n",
       "      <td>3<\/td>\n",
       "      <td>...<\/td>\n",
       "      <td>58.0<\/td>\n",
       "      <td>25.0<\/td>\n",
       "      <td>out to Rightfield<\/td>\n",
       "      <td>Cloudy<\/td>\n",
       "      <td>19<\/td>\n",
       "      <td>3.666667<\/td>\n",
       "      <td>regular season<\/td>\n",
       "      <td>1<\/td>\n",
       "      <td>0<\/td>\n",
       "      <td>Win<\/td>\n",
       "    <\/tr>\n",
       "  <\/tbody>\n",
       "<\/table>\n",
       "<p>2 rows × 25 columns<\/p>\n",
       "<\/div>"
      ]
     },
     "metadata":{
      
     },
     "output_type":"display_data"
    }
   ],
   "metadata":{
    "datalore":{
     "type":"CODE",
     "hide_input_from_viewers":false,
     "hide_output_from_viewers":false
    }
   }
  },
  {
   "cell_type":"markdown",
   "source":[
    "# 10. В какой игре получили максимальное количество очков?"
   ],
   "attachments":{
    
   },
   "metadata":{
    "datalore":{
     "type":"MD",
     "hide_input_from_viewers":false,
     "hide_output_from_viewers":false
    }
   }
  },
  {
   "cell_type":"code",
   "source":[
    "season_games[season_games.total_runs == season_games.total_runs.max()]"
   ],
   "execution_count":232,
   "outputs":[
    {
     "data":{
      "text\/html":[
       "<div>\n",
       "<style scoped>\n",
       "    .dataframe tbody tr th:only-of-type {\n",
       "        vertical-align: middle;\n",
       "    }\n",
       "\n",
       "    .dataframe tbody tr th {\n",
       "        vertical-align: top;\n",
       "    }\n",
       "\n",
       "    .dataframe thead th {\n",
       "        text-align: right;\n",
       "    }\n",
       "<\/style>\n",
       "<table border=\"1\" class=\"dataframe\">\n",
       "  <thead>\n",
       "    <tr style=\"text-align: right;\">\n",
       "      <th><\/th>\n",
       "      <th>attendance<\/th>\n",
       "      <th>away_team<\/th>\n",
       "      <th>away_team_errors<\/th>\n",
       "      <th>away_team_hits<\/th>\n",
       "      <th>away_team_runs<\/th>\n",
       "      <th>date<\/th>\n",
       "      <th>field_type<\/th>\n",
       "      <th>game_type<\/th>\n",
       "      <th>home_team<\/th>\n",
       "      <th>home_team_errors<\/th>\n",
       "      <th>...<\/th>\n",
       "      <th>temperature<\/th>\n",
       "      <th>wind_speed<\/th>\n",
       "      <th>wind_direction<\/th>\n",
       "      <th>sky<\/th>\n",
       "      <th>total_runs<\/th>\n",
       "      <th>game_hours_dec<\/th>\n",
       "      <th>season<\/th>\n",
       "      <th>home_team_win<\/th>\n",
       "      <th>home_team_loss<\/th>\n",
       "      <th>home_team_outcome<\/th>\n",
       "    <\/tr>\n",
       "  <\/thead>\n",
       "  <tbody>\n",
       "    <tr>\n",
       "      <th>1753<\/th>\n",
       "      <td>22588.0<\/td>\n",
       "      <td>Seattle Mariners<\/td>\n",
       "      <td>1<\/td>\n",
       "      <td>16<\/td>\n",
       "      <td>16<\/td>\n",
       "      <td>2016-06-02<\/td>\n",
       "      <td>on grass<\/td>\n",
       "      <td>Night Game<\/td>\n",
       "      <td>San Diego Padres<\/td>\n",
       "      <td>1<\/td>\n",
       "      <td>...<\/td>\n",
       "      <td>76.0<\/td>\n",
       "      <td>10.0<\/td>\n",
       "      <td>out to Rightfield<\/td>\n",
       "      <td>Sunny<\/td>\n",
       "      <td>29<\/td>\n",
       "      <td>3.833333<\/td>\n",
       "      <td>regular season<\/td>\n",
       "      <td>0<\/td>\n",
       "      <td>1<\/td>\n",
       "      <td>Loss<\/td>\n",
       "    <\/tr>\n",
       "  <\/tbody>\n",
       "<\/table>\n",
       "<p>1 rows × 25 columns<\/p>\n",
       "<\/div>"
      ]
     },
     "metadata":{
      
     },
     "output_type":"display_data"
    }
   ],
   "metadata":{
    "datalore":{
     "type":"CODE",
     "hide_input_from_viewers":false,
     "hide_output_from_viewers":false
    }
   }
  },
  {
   "cell_type":"markdown",
   "source":[
    "# 11. Какая игра содержала максимальное количество ошибок домашней команды?"
   ],
   "attachments":{
    
   },
   "metadata":{
    "datalore":{
     "type":"MD",
     "hide_input_from_viewers":false,
     "hide_output_from_viewers":false
    }
   }
  },
  {
   "cell_type":"code",
   "source":[
    "season_games[season_games.home_team_errors == season_games.home_team_errors.max()]"
   ],
   "execution_count":233,
   "outputs":[
    {
     "data":{
      "text\/html":[
       "<div>\n",
       "<style scoped>\n",
       "    .dataframe tbody tr th:only-of-type {\n",
       "        vertical-align: middle;\n",
       "    }\n",
       "\n",
       "    .dataframe tbody tr th {\n",
       "        vertical-align: top;\n",
       "    }\n",
       "\n",
       "    .dataframe thead th {\n",
       "        text-align: right;\n",
       "    }\n",
       "<\/style>\n",
       "<table border=\"1\" class=\"dataframe\">\n",
       "  <thead>\n",
       "    <tr style=\"text-align: right;\">\n",
       "      <th><\/th>\n",
       "      <th>attendance<\/th>\n",
       "      <th>away_team<\/th>\n",
       "      <th>away_team_errors<\/th>\n",
       "      <th>away_team_hits<\/th>\n",
       "      <th>away_team_runs<\/th>\n",
       "      <th>date<\/th>\n",
       "      <th>field_type<\/th>\n",
       "      <th>game_type<\/th>\n",
       "      <th>home_team<\/th>\n",
       "      <th>home_team_errors<\/th>\n",
       "      <th>...<\/th>\n",
       "      <th>temperature<\/th>\n",
       "      <th>wind_speed<\/th>\n",
       "      <th>wind_direction<\/th>\n",
       "      <th>sky<\/th>\n",
       "      <th>total_runs<\/th>\n",
       "      <th>game_hours_dec<\/th>\n",
       "      <th>season<\/th>\n",
       "      <th>home_team_win<\/th>\n",
       "      <th>home_team_loss<\/th>\n",
       "      <th>home_team_outcome<\/th>\n",
       "    <\/tr>\n",
       "  <\/thead>\n",
       "  <tbody>\n",
       "    <tr>\n",
       "      <th>1143<\/th>\n",
       "      <td>22581.0<\/td>\n",
       "      <td>Arizona Diamondbacks<\/td>\n",
       "      <td>1<\/td>\n",
       "      <td>11<\/td>\n",
       "      <td>8<\/td>\n",
       "      <td>2016-07-27<\/td>\n",
       "      <td>on grass<\/td>\n",
       "      <td>Night Game<\/td>\n",
       "      <td>Milwaukee Brewers<\/td>\n",
       "      <td>5<\/td>\n",
       "      <td>...<\/td>\n",
       "      <td>77.0<\/td>\n",
       "      <td>9.0<\/td>\n",
       "      <td>in from Leftfield<\/td>\n",
       "      <td>Cloudy<\/td>\n",
       "      <td>9<\/td>\n",
       "      <td>2.933333<\/td>\n",
       "      <td>regular season<\/td>\n",
       "      <td>0<\/td>\n",
       "      <td>1<\/td>\n",
       "      <td>Loss<\/td>\n",
       "    <\/tr>\n",
       "  <\/tbody>\n",
       "<\/table>\n",
       "<p>1 rows × 25 columns<\/p>\n",
       "<\/div>"
      ]
     },
     "metadata":{
      
     },
     "output_type":"display_data"
    }
   ],
   "metadata":{
    "datalore":{
     "type":"CODE",
     "hide_input_from_viewers":false,
     "hide_output_from_viewers":false
    }
   }
  },
  {
   "cell_type":"markdown",
   "source":[
    "# 12. В какой игре было максимальное количество хитов?"
   ],
   "attachments":{
    
   },
   "metadata":{
    "datalore":{
     "type":"MD",
     "hide_input_from_viewers":false,
     "hide_output_from_viewers":false
    }
   }
  },
  {
   "cell_type":"code",
   "source":[
    "season_games['total_hits'] = season_games.apply(lambda row: row['home_team_hits'] + row['away_team_hits'], axis = 1 )\n",
    "season_games[season_games.total_hits == season_games.total_hits.max()]"
   ],
   "execution_count":234,
   "outputs":[
    {
     "data":{
      "text\/html":[
       "<div>\n",
       "<style scoped>\n",
       "    .dataframe tbody tr th:only-of-type {\n",
       "        vertical-align: middle;\n",
       "    }\n",
       "\n",
       "    .dataframe tbody tr th {\n",
       "        vertical-align: top;\n",
       "    }\n",
       "\n",
       "    .dataframe thead th {\n",
       "        text-align: right;\n",
       "    }\n",
       "<\/style>\n",
       "<table border=\"1\" class=\"dataframe\">\n",
       "  <thead>\n",
       "    <tr style=\"text-align: right;\">\n",
       "      <th><\/th>\n",
       "      <th>attendance<\/th>\n",
       "      <th>away_team<\/th>\n",
       "      <th>away_team_errors<\/th>\n",
       "      <th>away_team_hits<\/th>\n",
       "      <th>away_team_runs<\/th>\n",
       "      <th>date<\/th>\n",
       "      <th>field_type<\/th>\n",
       "      <th>game_type<\/th>\n",
       "      <th>home_team<\/th>\n",
       "      <th>home_team_errors<\/th>\n",
       "      <th>...<\/th>\n",
       "      <th>wind_speed<\/th>\n",
       "      <th>wind_direction<\/th>\n",
       "      <th>sky<\/th>\n",
       "      <th>total_runs<\/th>\n",
       "      <th>game_hours_dec<\/th>\n",
       "      <th>season<\/th>\n",
       "      <th>home_team_win<\/th>\n",
       "      <th>home_team_loss<\/th>\n",
       "      <th>home_team_outcome<\/th>\n",
       "      <th>total_hits<\/th>\n",
       "    <\/tr>\n",
       "  <\/thead>\n",
       "  <tbody>\n",
       "    <tr>\n",
       "      <th>1378<\/th>\n",
       "      <td>36253.0<\/td>\n",
       "      <td>Texas Rangers<\/td>\n",
       "      <td>0<\/td>\n",
       "      <td>16<\/td>\n",
       "      <td>5<\/td>\n",
       "      <td>2016-07-04<\/td>\n",
       "      <td>on grass<\/td>\n",
       "      <td>Day Game<\/td>\n",
       "      <td>Boston Red Sox<\/td>\n",
       "      <td>2<\/td>\n",
       "      <td>...<\/td>\n",
       "      <td>11.0<\/td>\n",
       "      <td>out to Centerfield<\/td>\n",
       "      <td>Cloudy<\/td>\n",
       "      <td>17<\/td>\n",
       "      <td>3.666667<\/td>\n",
       "      <td>regular season<\/td>\n",
       "      <td>1<\/td>\n",
       "      <td>0<\/td>\n",
       "      <td>Win<\/td>\n",
       "      <td>37<\/td>\n",
       "    <\/tr>\n",
       "  <\/tbody>\n",
       "<\/table>\n",
       "<p>1 rows × 26 columns<\/p>\n",
       "<\/div>"
      ]
     },
     "metadata":{
      
     },
     "output_type":"display_data"
    }
   ],
   "metadata":{
    "datalore":{
     "type":"CODE",
     "hide_input_from_viewers":false,
     "hide_output_from_viewers":false
    }
   }
  },
  {
   "cell_type":"markdown",
   "source":[
    "# 13. Выведите количество игр которая сыграла каждая команда в данном сезоне?"
   ],
   "attachments":{
    
   },
   "metadata":{
    "datalore":{
     "type":"MD",
     "hide_input_from_viewers":false,
     "hide_output_from_viewers":false
    }
   }
  },
  {
   "cell_type":"code",
   "source":[
    "season_games['away_team'].value_counts() + season_games['home_team'].value_counts()"
   ],
   "execution_count":235,
   "outputs":[
    {
     "data":{
      "text\/html":[
       
      ]
     },
     "metadata":{
      
     },
     "output_type":"display_data"
    }
   ],
   "metadata":{
    "datalore":{
     "type":"CODE",
     "hide_input_from_viewers":false,
     "hide_output_from_viewers":false
    }
   }
  },
  {
   "cell_type":"markdown",
   "source":[
    "# 14. Какая команда выиграла наибольшое количество матчей в сезоне? (Будьте внимательны с типом матча в сезоне - season)."
   ],
   "attachments":{
    
   },
   "metadata":{
    "datalore":{
     "type":"MD",
     "hide_input_from_viewers":false,
     "hide_output_from_viewers":false
    }
   }
  },
  {
   "cell_type":"code",
   "source":[
    "home_team_wins = pd.pivot_table( season_games, index='home_team', values='home_team_win', aggfunc=np.sum)\n",
    "away_team_wins = pd.pivot_table( win_loss_games, index='away_team', values='home_team_loss', aggfunc=np.sum)\n",
    "team_wins = home_team_wins['home_team_win'] + away_team_wins['home_team_loss']\n",
    "team_wins.idxmax()"
   ],
   "execution_count":236,
   "outputs":[
    {
     "data":{
      "text\/plain":[
       "'Chicago Cubs'"
      ]
     },
     "metadata":{
      
     },
     "output_type":"display_data"
    }
   ],
   "metadata":{
    "datalore":{
     "type":"CODE",
     "hide_input_from_viewers":false,
     "hide_output_from_viewers":false
    }
   }
  },
  {
   "cell_type":"markdown",
   "source":[
    "# 15. Какая команда выиграла наибольшее количество домашних матчей в сезоне?"
   ],
   "attachments":{
    
   },
   "metadata":{
    "datalore":{
     "type":"MD",
     "hide_input_from_viewers":false,
     "hide_output_from_viewers":false
    }
   }
  },
  {
   "cell_type":"code",
   "source":[
    "home_team_wins['home_team_win'].idxmax()"
   ],
   "execution_count":237,
   "outputs":[
    {
     "data":{
      "text\/plain":[
       "'Chicago Cubs'"
      ]
     },
     "metadata":{
      
     },
     "output_type":"display_data"
    }
   ],
   "metadata":{
    "datalore":{
     "type":"CODE",
     "hide_input_from_viewers":false,
     "hide_output_from_viewers":false
    }
   }
  },
  {
   "cell_type":"markdown",
   "source":[
    "# 16. Какая команда выиграла наибольшее количество гостевых матчей в сезоне?"
   ],
   "attachments":{
    
   },
   "metadata":{
    "datalore":{
     "type":"MD",
     "hide_input_from_viewers":false,
     "hide_output_from_viewers":false
    }
   }
  },
  {
   "cell_type":"code",
   "source":[
    "away_team_wins['home_team_loss'].idxmax()"
   ],
   "execution_count":238,
   "outputs":[
    {
     "data":{
      "text\/plain":[
       "'St. Louis Cardinals'"
      ]
     },
     "metadata":{
      
     },
     "output_type":"display_data"
    }
   ],
   "metadata":{
    "datalore":{
     "type":"CODE",
     "hide_input_from_viewers":false,
     "hide_output_from_viewers":false
    }
   }
  },
  {
   "cell_type":"markdown",
   "source":[
    "# 17. Какая команда проиграла наибольшее количество матчей в сезоне?"
   ],
   "attachments":{
    
   },
   "metadata":{
    "datalore":{
     "type":"MD",
     "hide_input_from_viewers":false,
     "hide_output_from_viewers":false
    }
   }
  },
  {
   "cell_type":"code",
   "source":[
    "home_team_loss = pd.pivot_table( win_loss_games, index='home_team', values='home_team_loss', aggfunc=np.sum)\n",
    "away_team_loss = pd.pivot_table( season_games, index='away_team', values='home_team_win', aggfunc=np.sum)\n",
    "team_loss = home_team_loss['home_team_loss'] + away_team_loss['home_team_win']\n",
    "team_loss.idxmax()"
   ],
   "execution_count":239,
   "outputs":[
    {
     "data":{
      "text\/plain":[
       "'Minnesota Twins'"
      ]
     },
     "metadata":{
      
     },
     "output_type":"display_data"
    }
   ],
   "metadata":{
    "datalore":{
     "type":"CODE",
     "hide_input_from_viewers":false,
     "hide_output_from_viewers":false
    }
   }
  },
  {
   "cell_type":"markdown",
   "source":[
    "# 18. Зависит ли выигрышь от количества посетителей матча? (https:\/\/pandas.pydata.org\/docs\/reference\/api\/pandas.DataFrame.cov.html)"
   ],
   "attachments":{
    
   },
   "metadata":{
    "datalore":{
     "type":"MD",
     "hide_input_from_viewers":false,
     "hide_output_from_viewers":false
    }
   }
  },
  {
   "cell_type":"code",
   "source":[
    "if abs(season_games.corr()['attendance']['home_team_win']) > 0.1:\n",
    "    print(\"Есть некоторая зависомость!\")\n",
    "else:\n",
    "    print(\"Зависимости нет или она несущественна\")"
   ],
   "execution_count":240,
   "outputs":[
    {
     "name":"stdout",
     "text":[
      "Зависимости нет или она несущественна\n"
     ],
     "output_type":"stream"
    }
   ],
   "metadata":{
    "datalore":{
     "type":"CODE",
     "hide_input_from_viewers":false,
     "hide_output_from_viewers":false
    }
   }
  },
  {
   "cell_type":"markdown",
   "source":[
    "# 19. Правда ли что большинство проигрышных домашних матчей приходятся на Субботу и Воскресенье?"
   ],
   "attachments":{
    
   },
   "metadata":{
    "datalore":{
     "type":"MD",
     "hide_input_from_viewers":false,
     "hide_output_from_viewers":false
    }
   }
  },
  {
   "cell_type":"code",
   "source":[
    "day_home_loss = pd.pivot_table( win_loss_games, index='day_of_week', values='home_team_loss', aggfunc=np.sum)\n",
    "weekend_loss_number = day_home_loss['home_team_loss']['Sunday'] + day_home_loss['home_team_loss']['Saturday']\n",
    "if weekend_loss_number > (day_home_loss.sum()['home_team_loss'] - weekend_loss_number):\n",
    "    print(\"Большинство домашних проигрышей происходят по выходным!\")\n",
    "else:\n",
    "    print(\"Большинство домашних проигрышей происходят по будням!\")"
   ],
   "execution_count":241,
   "outputs":[
    {
     "name":"stdout",
     "text":[
      "Большинство домашних проигрышей происходят по будням!\n"
     ],
     "output_type":"stream"
    }
   ],
   "metadata":{
    "datalore":{
     "type":"CODE",
     "hide_input_from_viewers":false,
     "hide_output_from_viewers":false
    }
   }
  },
  {
   "cell_type":"markdown",
   "source":[
    "# 20. Правда ли что наибольшее количество ранов происходит в холодную погоду? (Холодной погодой считается погода ниже 0 градусов)"
   ],
   "attachments":{
    
   },
   "metadata":{
    "datalore":{
     "type":"MD",
     "hide_input_from_viewers":false,
     "hide_output_from_viewers":false
    }
   }
  },
  {
   "cell_type":"code",
   "source":[
    "season_games['cold_weather'] = season_games.apply(lambda row: (1,0)[(row['temperature'] - 32) * 5 \/ 9 < 0], axis=1)\n",
    "temperature_runs = pd.pivot_table(season_games, index='cold_weather', values='total_runs', aggfunc=np.sum)\n",
    "if temperature_runs['total_runs'][0] > temperature_runs['total_runs'][1]:\n",
    "    print(\"Большинство ранов произошло в холодную погоду!\")\n",
    "else:\n",
    "    print(\"Большинство ранов произошло в теплую погоду!\")"
   ],
   "execution_count":242,
   "outputs":[
    {
     "name":"stdout",
     "text":[
      "Большинство ранов произошло в теплую погоду!\n"
     ],
     "output_type":"stream"
    }
   ],
   "metadata":{
    "datalore":{
     "type":"CODE",
     "hide_input_from_viewers":false,
     "hide_output_from_viewers":false
    }
   }
  }
 ],
 "metadata":{
  "datalore":{
   "version":1,
   "computation_mode":"JUPYTER",
   "package_manager":"pip",
   "base_environment":"default",
   "packages":[
    
   ]
  }
 },
 "nbformat":4,
 "nbformat_minor":4
}